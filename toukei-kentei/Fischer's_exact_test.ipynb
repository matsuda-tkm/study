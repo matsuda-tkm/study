{
 "cells": [
  {
   "cell_type": "code",
   "execution_count": 108,
   "id": "627f54e7",
   "metadata": {},
   "outputs": [],
   "source": [
    "import numpy as np"
   ]
  },
  {
   "cell_type": "code",
   "execution_count": 109,
   "id": "1a6e9039",
   "metadata": {},
   "outputs": [],
   "source": [
    "def fac(n):\n",
    "    result = 1\n",
    "    for i in range(1,n+1):\n",
    "        result *= i\n",
    "    return result\n",
    "\n",
    "def comb(n,r):\n",
    "    return fac(n) / fac(r) / fac(n-r)\n",
    "\n",
    "def hypergeo(x,table):\n",
    "    x_1s = table[0][0] + table[0][1]\n",
    "    x_s1 = table[0][0] + table[1][0]\n",
    "    x_s2 = table[0][1] + table[1][1]\n",
    "    x_ss = x_s1 + x_s2\n",
    "    return comb(x_s1, x) * comb(x_s2, x_1s-x) / comb(x_ss, x_1s)"
   ]
  },
  {
   "cell_type": "code",
   "execution_count": 110,
   "id": "1752690b",
   "metadata": {},
   "outputs": [],
   "source": [
    "def fisher_exact(table, alternative):\n",
    "    x_11 = table[0][0]\n",
    "    x_1s = table[0][0] + table[0][1]\n",
    "    x_s1 = table[0][0] + table[1][0]\n",
    "    x_s2 = table[0][1] + table[1][1]\n",
    "    x_ss = x_s1 + x_s2\n",
    "    \n",
    "    m = max(0, x_1s+x_s1-x_ss)\n",
    "    M = min(x_1s, x_s1)\n",
    "    p = 0\n",
    "    \n",
    "    if alternative==\"greater\":\n",
    "        for x in range(x_11, M+1):\n",
    "            p += hypergeo(x, table)\n",
    "    elif alternative==\"less\":\n",
    "        for x in range(m, x_11+1):\n",
    "            p += hypergeo(x, table)\n",
    "    else:\n",
    "        return None\n",
    "    return p"
   ]
  },
  {
   "cell_type": "code",
   "execution_count": 111,
   "id": "28d44c65",
   "metadata": {},
   "outputs": [
    {
     "data": {
      "text/plain": [
       "array([[6, 1],\n",
       "       [3, 4]])"
      ]
     },
     "execution_count": 111,
     "metadata": {},
     "output_type": "execute_result"
    }
   ],
   "source": [
    "t = np.array([[6,1],\n",
    "             [3,4]])\n",
    "t"
   ]
  },
  {
   "cell_type": "code",
   "execution_count": 112,
   "id": "aa651269",
   "metadata": {},
   "outputs": [
    {
     "data": {
      "text/plain": [
       "0.13286713286713286"
      ]
     },
     "execution_count": 112,
     "metadata": {},
     "output_type": "execute_result"
    }
   ],
   "source": [
    "fisher_exact(t,\"greater\")"
   ]
  }
 ],
 "metadata": {
  "kernelspec": {
   "display_name": "Python 3",
   "language": "python",
   "name": "python3"
  },
  "language_info": {
   "codemirror_mode": {
    "name": "ipython",
    "version": 3
   },
   "file_extension": ".py",
   "mimetype": "text/x-python",
   "name": "python",
   "nbconvert_exporter": "python",
   "pygments_lexer": "ipython3",
   "version": "3.8.8"
  }
 },
 "nbformat": 4,
 "nbformat_minor": 5
}
